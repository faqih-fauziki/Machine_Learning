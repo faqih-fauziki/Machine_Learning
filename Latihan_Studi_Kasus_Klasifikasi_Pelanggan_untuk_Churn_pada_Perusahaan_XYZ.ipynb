{
  "nbformat": 4,
  "nbformat_minor": 0,
  "metadata": {
    "colab": {
      "provenance": [],
      "authorship_tag": "ABX9TyOSFgRAUNvaoLGxqqNbhPRW",
      "include_colab_link": true
    },
    "kernelspec": {
      "name": "python3",
      "display_name": "Python 3"
    },
    "language_info": {
      "name": "python"
    }
  },
  "cells": [
    {
      "cell_type": "markdown",
      "metadata": {
        "id": "view-in-github",
        "colab_type": "text"
      },
      "source": [
        "<a href=\"https://colab.research.google.com/github/faqih-fauziki/Machine_Learning/blob/main/Latihan_Studi_Kasus_Klasifikasi_Pelanggan_untuk_Churn_pada_Perusahaan_XYZ.ipynb\" target=\"_parent\"><img src=\"https://colab.research.google.com/assets/colab-badge.svg\" alt=\"Open In Colab\"/></a>"
      ]
    },
    {
      "cell_type": "code",
      "execution_count": null,
      "metadata": {
        "id": "CKS2hia3x6ik"
      },
      "outputs": [],
      "source": []
    }
  ]
}